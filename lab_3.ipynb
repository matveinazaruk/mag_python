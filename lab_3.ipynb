{
 "cells": [
  {
   "cell_type": "code",
   "execution_count": 8,
   "metadata": {
    "collapsed": false
   },
   "outputs": [
    {
     "name": "stdout",
     "output_type": "stream",
     "text": [
      "111 steps\n",
      "27 => 82 => 41 => 124 => 62 => 31 => 94 => 47 => 142 => 71 => 214 => 107 => 322 => 161 => 484 => 242 => 121 => 364 => 182 => 91 => 274 => 137 => 412 => 206 => 103 => 310 => 155 => 466 => 233 => 700 => 350 => 175 => 526 => 263 => 790 => 395 => 1186 => 593 => 1780 => 890 => 445 => 1336 => 668 => 334 => 167 => 502 => 251 => 754 => 377 => 1132 => 566 => 283 => 850 => 425 => 1276 => 638 => 319 => 958 => 479 => 1438 => 719 => 2158 => 1079 => 3238 => 1619 => 4858 => 2429 => 7288 => 3644 => 1822 => 911 => 2734 => 1367 => 4102 => 2051 => 6154 => 3077 => 9232 => 4616 => 2308 => 1154 => 577 => 1732 => 866 => 433 => 1300 => 650 => 325 => 976 => 488 => 244 => 122 => 61 => 184 => 92 => 46 => 23 => 70 => 35 => 106 => 53 => 160 => 80 => 40 => 20 => 10 => 5 => 16 => 8 => 4 => 2 => 1\n"
     ]
    }
   ],
   "source": [
    "def check_kollats(n):\n",
    "    output = str(n)\n",
    "    steps = 0\n",
    "    while (n != 1):\n",
    "        n = n / 2 if n % 2 == 0 else 3 * n + 1\n",
    "        output += ' => ' + str(n)\n",
    "        steps += 1\n",
    "    return steps, output\n",
    "    \n",
    "\n",
    "steps, result = check_kollats(27)\n",
    "print steps, 'steps'\n",
    "print result        "
   ]
  }
 ],
 "metadata": {
  "kernelspec": {
   "display_name": "Python 2",
   "language": "python",
   "name": "python2"
  },
  "language_info": {
   "codemirror_mode": {
    "name": "ipython",
    "version": 2
   },
   "file_extension": ".py",
   "mimetype": "text/x-python",
   "name": "python",
   "nbconvert_exporter": "python",
   "pygments_lexer": "ipython2",
   "version": "2.7.6"
  }
 },
 "nbformat": 4,
 "nbformat_minor": 0
}
