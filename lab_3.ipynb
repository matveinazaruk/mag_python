{
 "cells": [
  {
   "cell_type": "code",
   "execution_count": null,
   "metadata": {
    "collapsed": false
   },
   "outputs": [],
   "source": [
    "def check_kollats(n):\n",
    "    output = str(n)\n",
    "    steps = 0\n",
    "    while (n != 1):\n",
    "        n = n / 2 if n % 2 == 0 else 3 * n + 1\n",
    "        output += ' => ' + str(n)\n",
    "        steps += 1\n",
    "    return steps, output\n",
    "    \n",
    "\n",
    "a = int(raw_input(\"Enter number: \"))\n",
    "steps, result = check_kollats(a)\n",
    "print steps, 'steps'\n",
    "print result"
   ]
  }
 ],
 "metadata": {
  "kernelspec": {
   "display_name": "Python 2",
   "language": "python",
   "name": "python2"
  },
  "language_info": {
   "codemirror_mode": {
    "name": "ipython",
    "version": 2
   },
   "file_extension": ".py",
   "mimetype": "text/x-python",
   "name": "python",
   "nbconvert_exporter": "python",
   "pygments_lexer": "ipython2",
   "version": "2.7.6"
  }
 },
 "nbformat": 4,
 "nbformat_minor": 0
}
