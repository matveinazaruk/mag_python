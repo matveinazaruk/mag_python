{
 "cells": [
  {
   "cell_type": "code",
   "execution_count": null,
   "metadata": {
    "collapsed": false
   },
   "outputs": [],
   "source": [
    "couplet = \"\"\"\n",
    "%s green bottles\n",
    "Hanging on the wall\n",
    "%s green bottles\n",
    "Hanging on the wall\n",
    "And if %s green bottle\n",
    "Should accidentally fall\n",
    "There'll be %s green bottles\n",
    "Hanging on the wall\n",
    "\"\"\"\n",
    "\n",
    "numbers = {1: 'One', 2: 'Two', 3: 'Three', \n",
    "           4: 'Four', 5: 'Five', 6: 'Six', 7: 'Seven', \n",
    "           8: 'Eight', 9: 'Nine', 10: 'Ten'}\n",
    "\n",
    "step = 1\n",
    "for n in xrange(10, 0, -step):\n",
    "    print couplet % (numbers[n], \n",
    "                     numbers[n], \n",
    "                     numbers[step].lower(), \n",
    "                     numbers.get(n-step, 'no').lower())\n",
    "    "
   ]
  }
 ],
 "metadata": {
  "kernelspec": {
   "display_name": "Python 2",
   "language": "python",
   "name": "python2"
  },
  "language_info": {
   "codemirror_mode": {
    "name": "ipython",
    "version": 2
   },
   "file_extension": ".py",
   "mimetype": "text/x-python",
   "name": "python",
   "nbconvert_exporter": "python",
   "pygments_lexer": "ipython2",
   "version": "2.7.6"
  }
 },
 "nbformat": 4,
 "nbformat_minor": 0
}
