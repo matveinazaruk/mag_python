{
 "cells": [
  {
   "cell_type": "code",
   "execution_count": 12,
   "metadata": {
    "collapsed": false
   },
   "outputs": [
    {
     "name": "stdout",
     "output_type": "stream",
     "text": [
      "__g___Never_That_Day____The__\n"
     ]
    }
   ],
   "source": [
    "import re\n",
    "\n",
    "def revert_words(line):\n",
    "    words_reversed = reversed(re.findall(r'[A-Za-z]+', line))\n",
    "    underlines = re.sub(r'[A-Za-z]+', '%s', line)\n",
    "    return underlines % tuple(words_reversed)  \n",
    "    \n",
    "line = '__The___Day_That_Never____g__'\n",
    "print revert_words(line)"
   ]
  },
  {
   "cell_type": "code",
   "execution_count": 11,
   "metadata": {
    "collapsed": false
   },
   "outputs": [
    {
     "name": "stdout",
     "output_type": "stream",
     "text": [
      "__Never___That_Day_The______\n"
     ]
    }
   ],
   "source": [
    "line = '__The___Day_That_Never______'\n",
    "print '_'.join([el if not el else list(reversed(filter(None, line.split('_'))))[filter(None, line.split('_')).index(el)] for el in line.split('_')])"
   ]
  }
 ],
 "metadata": {
  "kernelspec": {
   "display_name": "Python 2",
   "language": "python",
   "name": "python2"
  },
  "language_info": {
   "codemirror_mode": {
    "name": "ipython",
    "version": 2
   },
   "file_extension": ".py",
   "mimetype": "text/x-python",
   "name": "python",
   "nbconvert_exporter": "python",
   "pygments_lexer": "ipython2",
   "version": "2.7.6"
  }
 },
 "nbformat": 4,
 "nbformat_minor": 0
}
