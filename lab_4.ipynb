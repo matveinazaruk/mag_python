{
 "cells": [
  {
   "cell_type": "code",
   "execution_count": 24,
   "metadata": {
    "collapsed": false
   },
   "outputs": [
    {
     "name": "stdout",
     "output_type": "stream",
     "text": [
      "__Never___That_Day_The______-\n"
     ]
    }
   ],
   "source": [
    "import re\n",
    "\n",
    "def revert_words(line):\n",
    "    words_reversed = reversed([''] + re.findall(r'[A-Za-z]+', line))\n",
    "    underlines = re.split(r'[A-Za-z]+', line)\n",
    "    return reduce(lambda x, y: x + y[0] + y[1], \n",
    "                  zip(underlines, words_reversed), '')    \n",
    "    \n",
    "line = '__The___Day_That_Never______'\n",
    "print revert_words(line)"
   ]
  }
 ],
 "metadata": {
  "kernelspec": {
   "display_name": "Python 2",
   "language": "python",
   "name": "python2"
  },
  "language_info": {
   "codemirror_mode": {
    "name": "ipython",
    "version": 2
   },
   "file_extension": ".py",
   "mimetype": "text/x-python",
   "name": "python",
   "nbconvert_exporter": "python",
   "pygments_lexer": "ipython2",
   "version": "2.7.6"
  }
 },
 "nbformat": 4,
 "nbformat_minor": 0
}
