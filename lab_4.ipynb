{
 "cells": [
  {
   "cell_type": "code",
   "execution_count": null,
   "metadata": {
    "collapsed": false
   },
   "outputs": [],
   "source": [
    "import re\n",
    "\n",
    "def revert_words(line):\n",
    "    words_reversed = reversed([''] + re.findall(r'[A-Za-z]+', line))\n",
    "    underlines = re.split(r'[A-Za-z]+', line)\n",
    "    return reduce(lambda x, y: x + y[0] + y[1], \n",
    "                  zip(underlines, words_reversed), '')    \n",
    "    \n",
    "line = '__The___Day_That_Never______'\n",
    "print revert_words(line)"
   ]
  },
  {
   "cell_type": "code",
   "execution_count": null,
   "metadata": {
    "collapsed": false
   },
   "outputs": [],
   "source": [
    "import re\n",
    "\n",
    "line = '__The___Day_That_Never______'\n",
    "result = reduce(lambda x, y: x + y[0] + y[1], zip(re.split(r'[A-Za-z]+', line), reversed([''] + re.findall(r'[A-Za-z]+', line))), '')    \n",
    "print result    "
   ]
  },
  {
   "cell_type": "code",
   "execution_count": null,
   "metadata": {
    "collapsed": false
   },
   "outputs": [],
   "source": [
    "line = '__The___Day_That_Never______'\n",
    "print '_'.join([el if not el else list(reversed(filter(None, line.split('_'))))[filter(None, line.split('_')).index(el)] for el in line.split('_')])"
   ]
  }
 ],
 "metadata": {
  "kernelspec": {
   "display_name": "Python 2",
   "language": "python",
   "name": "python2"
  },
  "language_info": {
   "codemirror_mode": {
    "name": "ipython",
    "version": 2
   },
   "file_extension": ".py",
   "mimetype": "text/x-python",
   "name": "python",
   "nbconvert_exporter": "python",
   "pygments_lexer": "ipython2",
   "version": "2.7.6"
  }
 },
 "nbformat": 4,
 "nbformat_minor": 0
}
