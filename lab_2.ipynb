{
 "cells": [
  {
   "cell_type": "code",
   "execution_count": 3,
   "metadata": {
    "collapsed": false
   },
   "outputs": [
    {
     "name": "stdout",
     "output_type": "stream",
     "text": [
      "[3, 3, 3, 4, 5, 5]\n"
     ]
    }
   ],
   "source": [
    "def cut_range(l, a, b):\n",
    "    def put_in_range(x):\n",
    "        if x < a:\n",
    "            return a\n",
    "        elif x > b:\n",
    "            return b\n",
    "        else:\n",
    "            return x\n",
    "    return [put_in_range(el) for el in l]\n",
    "\n",
    "l = [1, 2, 3, 4, 5, 6]\n",
    "print cut_range(l, 3, 5)"
   ]
  },
  {
   "cell_type": "code",
   "execution_count": null,
   "metadata": {
    "collapsed": true
   },
   "outputs": [],
   "source": []
  }
 ],
 "metadata": {
  "kernelspec": {
   "display_name": "Python 2",
   "language": "python",
   "name": "python2"
  },
  "language_info": {
   "codemirror_mode": {
    "name": "ipython",
    "version": 2
   },
   "file_extension": ".py",
   "mimetype": "text/x-python",
   "name": "python",
   "nbconvert_exporter": "python",
   "pygments_lexer": "ipython2",
   "version": "2.7.6"
  }
 },
 "nbformat": 4,
 "nbformat_minor": 0
}
