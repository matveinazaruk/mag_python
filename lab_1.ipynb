{
 "cells": [
  {
   "cell_type": "code",
   "execution_count": 1,
   "metadata": {},
   "outputs": [
    {
     "name": "stdout",
     "output_type": "stream",
     "text": [
      "[0, 1, 3, 6]\n"
     ]
    }
   ],
   "source": [
    "def sums(numbers):\n",
    "    sum = 0\n",
    "    for number in numbers:\n",
    "        yield sum\n",
    "        sum += number\n",
    "    yield sum\n",
    "    \n",
    "\n",
    "l = [1, 2, 3]\n",
    "res = sums(l)\n",
    "print list(res)"
   ]
  }
 ],
 "metadata": {
  "kernelspec": {
   "display_name": "Python 2",
   "language": "python",
   "name": "python2"
  },
  "language_info": {
   "codemirror_mode": {
    "name": "ipython",
    "version": 2.0
   },
   "file_extension": ".py",
   "mimetype": "text/x-python",
   "name": "python",
   "nbconvert_exporter": "python",
   "pygments_lexer": "ipython2",
   "version": "2.7.6"
  }
 },
 "nbformat": 4,
 "nbformat_minor": 0
}