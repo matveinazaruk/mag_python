{
 "cells": [
  {
   "cell_type": "code",
   "execution_count": null,
   "metadata": {
    "collapsed": false
   },
   "outputs": [],
   "source": [
    "def to_str(data):\n",
    "    indent = '  '\n",
    "    \n",
    "    def stringify(data, output, level, key='', is_last=False):\n",
    "        new_line = '\\n' + indent * level\n",
    "        comma = '' if is_last or not level else ','\n",
    "        if isinstance(data, list):\n",
    "            output += new_line + str(key) + '['\n",
    "            for item in data[:-1]:\n",
    "                output = stringify(item, output, level + 1)           \n",
    "            output = stringify(data[-1], output, level + 1, is_last=True)\n",
    "            output += new_line + ']' + comma\n",
    "        elif isinstance(data, dict):\n",
    "            output += new_line + str(key) + '{'\n",
    "            for k in data.keys()[:-1]:\n",
    "                output = stringify(data[k], output, level + 1, key=k + ': ')      \n",
    "            output = stringify(data[data.keys()[-1]], output, level + 1, key=data.keys()[-1] + ': ', is_last=True) \n",
    "            output += new_line + '}' + comma\n",
    "        else:\n",
    "            output += new_line + str(key) + str(data) + comma\n",
    "        return output\n",
    "            \n",
    "    return stringify(data, '', 0)\n",
    "    \n",
    "\n",
    "print to_str([1, {'a': [1, 2], 'b': 'hi'}])\n",
    "    "
   ]
  }
 ],
 "metadata": {
  "kernelspec": {
   "display_name": "Python 2",
   "language": "python",
   "name": "python2"
  },
  "language_info": {
   "codemirror_mode": {
    "name": "ipython",
    "version": 2
   },
   "file_extension": ".py",
   "mimetype": "text/x-python",
   "name": "python",
   "nbconvert_exporter": "python",
   "pygments_lexer": "ipython2",
   "version": "2.7.6"
  }
 },
 "nbformat": 4,
 "nbformat_minor": 0
}
