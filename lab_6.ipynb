{
 "cells": [
  {
   "cell_type": "code",
   "execution_count": null,
   "metadata": {
    "collapsed": false
   },
   "outputs": [],
   "source": [
    "from collections import defaultdict\n",
    "from math import sqrt\n",
    "\n",
    "def primes(n):\n",
    "    primes_degrees = defaultdict(int)\n",
    "    d = 2\n",
    "    while d <= sqrt(n):\n",
    "        while n % d == 0:\n",
    "            primes_degrees[d] += 1  \n",
    "            n //= d\n",
    "        d += 1\n",
    "    if n != 1:\n",
    "        primes_degrees[n] += 1\n",
    "    return [[k, v] for k, v in primes_degrees.items()]\n",
    "\n",
    "\n",
    "print primes(28 * 44 * 43 * 7)"
   ]
  }
 ],
 "metadata": {
  "kernelspec": {
   "display_name": "Python 2",
   "language": "python",
   "name": "python2"
  },
  "language_info": {
   "codemirror_mode": {
    "name": "ipython",
    "version": 2
   },
   "file_extension": ".py",
   "mimetype": "text/x-python",
   "name": "python",
   "nbconvert_exporter": "python",
   "pygments_lexer": "ipython2",
   "version": "2.7.6"
  }
 },
 "nbformat": 4,
 "nbformat_minor": 0
}
